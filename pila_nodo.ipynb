{
 "cells": [
  {
   "metadata": {},
   "cell_type": "markdown",
   "source": "### Definimos la clase nodo",
   "id": "ed13d036850a44d1"
  },
  {
   "cell_type": "code",
   "id": "initial_id",
   "metadata": {
    "collapsed": true,
    "ExecuteTime": {
     "end_time": "2025-05-13T02:35:56.001538Z",
     "start_time": "2025-05-13T02:35:55.987277Z"
    }
   },
   "source": [
    "class Nodo:\n",
    "    def __init__(self, valor):\n",
    "        self.dato = valor #Almacena el valor del nodo\n",
    "        self.siguiente = None #Puntero apunta al siguiente nodo"
   ],
   "outputs": [],
   "execution_count": 5
  },
  {
   "metadata": {},
   "cell_type": "markdown",
   "source": "### Definimos la clase pila",
   "id": "59307a3774c5922f"
  },
  {
   "metadata": {
    "ExecuteTime": {
     "end_time": "2025-05-13T02:35:56.064621Z",
     "start_time": "2025-05-13T02:35:56.050355Z"
    }
   },
   "cell_type": "code",
   "source": [
    "class Pila:\n",
    "    def __init__(self):\n",
    "        self.cima = None #Inicializamos la cima de la pila como vacía\n",
    "\n",
    "    #Apilar/Agregar\n",
    "    def apilar(self, dato):\n",
    "        nuevo_nodo = Nodo(dato) #Creamos un nuevo nodo\n",
    "        nuevo_nodo.siguiente = self.cima #El siguiente del nuevo nodo apunta a la cima actual\n",
    "        self.cima = nuevo_nodo #Se actualiza la nueva cima\n",
    "        print(f\"Dato apilado {dato} correctamente\") #Mensaje de confirmación\n",
    "\n",
    "\n",
    "    #Desapilar/Eliminar\n",
    "    def desapilar(self):\n",
    "        if self.cima is None: #Si la pila está vacía\n",
    "            print(\"La pila está vacía, no se puede desapilar\") #Mensaje de error\n",
    "            return None #Retorna None\n",
    "        else:\n",
    "            dato = self.cima.dato #Guardamos el valor de la cima\n",
    "            self.cima = self.cima.siguiente #La cima ahora es el siguiente nodo\n",
    "            print(f\"Dato desapilado {dato} correctamente\") #Mensaje de confirmación\n",
    "            return dato #Devolvemos el valor del nodo eliminado\n",
    "\n",
    "    #Mostrar/Ver si esta vacía\n",
    "    def mostrar(self):\n",
    "        if self.cima is None: #Si la pila está vacía\n",
    "            print(\"La pila está vacía\") #Mensaje de error\n",
    "            return #Retorna None\n",
    "        else:\n",
    "            nodo_actual = self.cima #Iniciamos desde la cima\n",
    "            while nodo_actual: #Mientras haya nodos\n",
    "                print(nodo_actual.dato) #Imprimimos el dato del nodo actual\n",
    "                nodo_actual = nodo_actual.siguiente #Pasamos al siguiente nodo\n",
    "\n",
    "    #Buscar elemento\n",
    "    def buscar(self, dato):\n",
    "        nodo_actual = self.cima  #Empezamos desde la cima\n",
    "        pos = 0  #Contador de posición\n",
    "\n",
    "        while nodo_actual:\n",
    "            if nodo_actual.dato == dato:\n",
    "                print(f\"Elemento '{dato}' encontrado en la posición {pos} desde la cima.\")\n",
    "                return True\n",
    "            nodo_actual = nodo_actual.siguiente\n",
    "            pos += 1\n",
    "\n",
    "        print(f\"Elemento '{dato}' no encontrado.\")\n",
    "        return False"
   ],
   "id": "f7179bc0c02235bf",
   "outputs": [],
   "execution_count": 6
  },
  {
   "metadata": {
    "ExecuteTime": {
     "end_time": "2025-05-13T02:36:50.525148Z",
     "start_time": "2025-05-13T02:36:50.516475Z"
    }
   },
   "cell_type": "code",
   "source": [
    "pila=Pila()\n",
    "\n",
    "pila.apilar(\"PC\")\n",
    "pila.apilar(\"USB\")\n",
    "pila.apilar(\"Mouse\")\n",
    "\n",
    "pila.mostrar()\n",
    "\n",
    "pila.desapilar()\n",
    "\n",
    "pila.buscar(\"USB\")\n",
    "pila.mostrar()"
   ],
   "id": "77fe2e7c08290bf5",
   "outputs": [
    {
     "name": "stdout",
     "output_type": "stream",
     "text": [
      "Dato apilado PC correctamente\n",
      "Dato apilado USB correctamente\n",
      "Dato apilado Mouse correctamente\n",
      "Mouse\n",
      "USB\n",
      "PC\n",
      "Dato desapilado Mouse correctamente\n",
      "Elemento 'USB' encontrado en la posición 0 desde la cima.\n",
      "USB\n",
      "PC\n"
     ]
    }
   ],
   "execution_count": 10
  }
 ],
 "metadata": {
  "kernelspec": {
   "display_name": "Python 3",
   "language": "python",
   "name": "python3"
  },
  "language_info": {
   "codemirror_mode": {
    "name": "ipython",
    "version": 2
   },
   "file_extension": ".py",
   "mimetype": "text/x-python",
   "name": "python",
   "nbconvert_exporter": "python",
   "pygments_lexer": "ipython2",
   "version": "2.7.6"
  }
 },
 "nbformat": 4,
 "nbformat_minor": 5
}
