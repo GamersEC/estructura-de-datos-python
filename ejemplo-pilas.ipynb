{
 "cells": [
  {
   "metadata": {},
   "cell_type": "markdown",
   "source": "### Pila tareas",
   "id": "e69badace36d330a"
  },
  {
   "metadata": {
    "ExecuteTime": {
     "end_time": "2025-05-09T03:10:56.085361Z",
     "start_time": "2025-05-09T03:10:56.045873Z"
    }
   },
   "cell_type": "code",
   "source": [
    "# Definir la clase nodo\n",
    "class Nodo:\n",
    "    def __init__(self, tarea):\n",
    "        self.tarea = tarea # Almacena la tarea en el nodo\n",
    "        self.siguiente = None\n",
    "\n",
    "# Clase para la pila\n",
    "class Pila:\n",
    "    def __init__(self):\n",
    "        self.cima = None # La pila esta vacía al inicio\n",
    "\n",
    "    # Apilar / Ingresar\n",
    "    def apilar(self, tarea):\n",
    "        nuevoNodo = Nodo(tarea)\n",
    "        nuevoNodo.siguiente = self.cima # El nuevo nodo apunta al siguiente/cima\n",
    "        self.cima = nuevoNodo # El nuevo nodo ahora va a apuntando a la cima\n",
    "        print(f\"Tarea'{tarea}'agregar a la pila\")\n",
    "\n",
    "    # Verificar si la pila  está vacía (es una funcion porque devuelve un booleano)\n",
    "    def vacia(self): # true/false\n",
    "        return self.cima is None\n",
    "\n",
    "    # Desapilar / Sacar (LIFO)\n",
    "    def desapilar(self):\n",
    "        if self.vacia():\n",
    "            print(\"La pila está vacía, no se puede desapilar\")\n",
    "            return None\n",
    "        tarea_eliminada = self.cima.tarea # Se guarda la tarea que se va a eliminar\n",
    "        self.cima = self.cima.siguiente # Se coloca el puntero hacia el otro nodo\n",
    "        print(f\"Tarea'{tarea_eliminada}'agregar a la pila\")"
   ],
   "id": "e227dd04a6175240",
   "outputs": [],
   "execution_count": 1
  }
 ],
 "metadata": {
  "kernelspec": {
   "display_name": "Python 3",
   "language": "python",
   "name": "python3"
  },
  "language_info": {
   "codemirror_mode": {
    "name": "ipython",
    "version": 2
   },
   "file_extension": ".py",
   "mimetype": "text/x-python",
   "name": "python",
   "nbconvert_exporter": "python",
   "pygments_lexer": "ipython2",
   "version": "2.7.6"
  }
 },
 "nbformat": 4,
 "nbformat_minor": 5
}
