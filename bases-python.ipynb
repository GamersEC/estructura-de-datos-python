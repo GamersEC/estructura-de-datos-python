{
 "cells": [
  {
   "cell_type": "code",
   "id": "initial_id",
   "metadata": {
    "collapsed": true,
    "ExecuteTime": {
     "end_time": "2025-05-06T02:00:18.425925Z",
     "start_time": "2025-05-06T02:00:18.408230Z"
    }
   },
   "source": [
    "from idlelib.window import add_windows_to_menu\n",
    "from ipaddress import collapse_addresses\n",
    "\n",
    "a=2\n",
    "b=6\n",
    "c=10\n",
    "d=a+b+c\n",
    "print(d)"
   ],
   "outputs": [
    {
     "name": "stdout",
     "output_type": "stream",
     "text": [
      "18\n"
     ]
    }
   ],
   "execution_count": 4
  },
  {
   "metadata": {
    "ExecuteTime": {
     "end_time": "2025-05-06T02:13:59.204326Z",
     "start_time": "2025-05-06T02:13:59.191003Z"
    }
   },
   "cell_type": "code",
   "source": [
    "a=\"cadena para probar metodos\"\n",
    "a.upper()\n",
    "\n",
    "print(a.upper())"
   ],
   "id": "30a72635fcfc2aeb",
   "outputs": [
    {
     "name": "stdout",
     "output_type": "stream",
     "text": [
      "CADENA PARA PROBAR METODOS\n"
     ]
    }
   ],
   "execution_count": 7
  },
  {
   "metadata": {
    "ExecuteTime": {
     "end_time": "2025-05-06T02:30:20.220887Z",
     "start_time": "2025-05-06T02:30:20.202188Z"
    }
   },
   "cell_type": "code",
   "source": [
    "lista=[1,2,3,4,5, 6]\n",
    "print(lista)"
   ],
   "id": "56ed362a1de0eeb8",
   "outputs": [
    {
     "name": "stdout",
     "output_type": "stream",
     "text": [
      "[1, 2, 3, 4, 5, 6]\n"
     ]
    }
   ],
   "execution_count": 8
  },
  {
   "metadata": {
    "ExecuteTime": {
     "end_time": "2025-05-06T02:32:34.770007Z",
     "start_time": "2025-05-06T02:32:34.765661Z"
    }
   },
   "cell_type": "code",
   "source": [
    "if d>3:\n",
    "    print(\"Mayor\")\n",
    "else:\n",
    "    print(\"Menor\")"
   ],
   "id": "c55b94340f02b46f",
   "outputs": [
    {
     "name": "stdout",
     "output_type": "stream",
     "text": [
      "Mayor\n"
     ]
    }
   ],
   "execution_count": 11
  },
  {
   "metadata": {
    "ExecuteTime": {
     "end_time": "2025-05-06T02:32:44.828547Z",
     "start_time": "2025-05-06T02:32:44.820090Z"
    }
   },
   "cell_type": "code",
   "source": [
    "for a in lista:\n",
    "    print(a)"
   ],
   "id": "9573fd57022facdd",
   "outputs": [
    {
     "name": "stdout",
     "output_type": "stream",
     "text": [
      "1\n",
      "2\n",
      "3\n",
      "4\n",
      "5\n",
      "6\n"
     ]
    }
   ],
   "execution_count": 12
  },
  {
   "metadata": {},
   "cell_type": "code",
   "outputs": [],
   "execution_count": null,
   "source": [
    "class Nodo:\n",
    "    def_init_(self, dato);\n",
    "    self.dato = dato\n",
    "    self.siguiente = Nodo\n",
    "\n",
    "\n",
    "\n",
    "directorio=('clave, valor')\n",
    "\n",
    "\n",
    "#Apilar datos\n",
    "pila= [] #----> LIFO\n",
    "pila.append(10)\n",
    "pila.append(20)\n",
    "\n",
    "print(pila[-1])\n",
    "\n",
    "#Desapilar datos\n",
    "print(pila.pop())\n",
    "\n",
    "#Colas -----> FIFO\n",
    "cola.apend(1)\n",
    "cola.apend(2)\n",
    "\n",
    "#ver el frente\n",
    "print(cola[0]) #1\n",
    "\n",
    "#Desencolar\n",
    "print(cola.popleft(0)) # Retira el primer elemento de la cola\n",
    "\n",
    "\n",
    "\n",
    "\n",
    "\n",
    "\n",
    "\n",
    "\n",
    "\n",
    "\n"
   ],
   "id": "e4b249dba75ec12a"
  }
 ],
 "metadata": {
  "kernelspec": {
   "display_name": "Python 3",
   "language": "python",
   "name": "python3"
  },
  "language_info": {
   "codemirror_mode": {
    "name": "ipython",
    "version": 2
   },
   "file_extension": ".py",
   "mimetype": "text/x-python",
   "name": "python",
   "nbconvert_exporter": "python",
   "pygments_lexer": "ipython2",
   "version": "2.7.6"
  }
 },
 "nbformat": 4,
 "nbformat_minor": 5
}
