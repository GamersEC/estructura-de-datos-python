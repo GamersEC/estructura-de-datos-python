{
 "cells": [
  {
   "metadata": {},
   "cell_type": "markdown",
   "source": "### Clase Nodo unica para usar la Pila y la Cola",
   "id": "db366d0be0dfb20e"
  },
  {
   "metadata": {
    "ExecuteTime": {
     "end_time": "2025-05-19T21:04:32.420670Z",
     "start_time": "2025-05-19T21:04:32.410561Z"
    }
   },
   "cell_type": "code",
   "source": [
    "class Nodo:\n",
    "    def __init__(self, dato):\n",
    "        self.dato = dato    #Guarda el dato del nodo\n",
    "        self.next = None     #Puntero al siguiente nodo"
   ],
   "id": "eaec2b6aa412ed3",
   "outputs": [],
   "execution_count": 3
  },
  {
   "metadata": {},
   "cell_type": "markdown",
   "source": "### Clase Pila",
   "id": "5e354ea5d8dd70d9"
  },
  {
   "metadata": {},
   "cell_type": "markdown",
   "source": "Implementación de una pila usando una lista enlazada",
   "id": "e416fbb0dc2e4c23"
  },
  {
   "cell_type": "code",
   "id": "initial_id",
   "metadata": {
    "collapsed": true,
    "ExecuteTime": {
     "end_time": "2025-05-19T21:04:35.157779Z",
     "start_time": "2025-05-19T21:04:35.139082Z"
    }
   },
   "source": [
    "class Pila:\n",
    "    def __init__(self):\n",
    "        self.head = None  #El tope de la pila\n",
    "\n",
    "    #Metodo push para agregar un nuevo elemento a la pila\n",
    "    def push(self, dato):\n",
    "        nuevo_nodo = Nodo(dato)     #Crea un nuevo nodo con el dato\n",
    "        nuevo_nodo.next = self.head #Apunta al nodo que actualmente esta en el tope\n",
    "        self.head = nuevo_nodo      #El nuevo nodo ahora es el tope de la pila\n",
    "\n",
    "    #Metodo pop: elimina y retorna el elemento del tope de la pila\n",
    "    def pop(self):\n",
    "        if self.is_empty():        #Si la pila está vacia, no se puede hacer pop\n",
    "            return None\n",
    "        dato = self.head.dato      #Guarda el dato del tope actual\n",
    "        self.head = self.head.next #El siguiente nodo se convierte en el nuevo tope\n",
    "        return dato                #Retorna el dato extraido\n",
    "\n",
    "    #Metodo peek para retornar el dato del tope sin eliminarlo\n",
    "    def peek(self):\n",
    "        return self.head.dato if self.head else None\n",
    "\n",
    "    #Metodo is_empty para verificar si la pila esta vacia\n",
    "    def is_empty(self):\n",
    "        return self.head is None"
   ],
   "outputs": [],
   "execution_count": 4
  },
  {
   "metadata": {},
   "cell_type": "markdown",
   "source": "Prueba de la Pila",
   "id": "c3eb7f27e863d0e6"
  },
  {
   "metadata": {
    "ExecuteTime": {
     "end_time": "2025-05-19T21:04:37.148081Z",
     "start_time": "2025-05-19T21:04:37.138007Z"
    }
   },
   "cell_type": "code",
   "source": [
    "p = Pila() #Crear una pila vacía\n",
    "\n",
    "#Agregar elementos a la pila\n",
    "p.push(15)\n",
    "p.push(30)\n",
    "\n",
    "#Extraer y mostrar el tope de la pila\n",
    "print(p.pop())\n",
    "\n",
    "#Ver el nuevo tope sin eliminarlo\n",
    "print(p.peek())"
   ],
   "id": "9b4fccfb9ff8ce38",
   "outputs": [
    {
     "name": "stdout",
     "output_type": "stream",
     "text": [
      "30\n",
      "15\n"
     ]
    }
   ],
   "execution_count": 5
  },
  {
   "metadata": {},
   "cell_type": "markdown",
   "source": "### Clase Cola",
   "id": "140150cc73d2d645"
  },
  {
   "metadata": {},
   "cell_type": "markdown",
   "source": "Implementación de una cola con una lista enlazada",
   "id": "8c5f5ed485728dea"
  },
  {
   "metadata": {
    "ExecuteTime": {
     "end_time": "2025-05-19T21:12:34.077891Z",
     "start_time": "2025-05-19T21:12:34.058530Z"
    }
   },
   "cell_type": "code",
   "source": [
    "class Cola:\n",
    "    def __init__(self):\n",
    "        self.front = None  #Puntero al primer nodo\n",
    "        self.rear = None   #Puntero al último nodo\n",
    "\n",
    "    #Metodo enqueue para agregar un elemento al final de la cola\n",
    "    def enqueue(self, dato):\n",
    "        nuevo_nodo = Nodo(dato)        #Crea un nuevo nodo con el dato\n",
    "        if self.rear is None:          #Si la cola esta vacía\n",
    "            self.front = self.rear = nuevo_nodo  # Ambos punteros apuntan al nuevo nodo\n",
    "            return\n",
    "        self.rear.next = nuevo_nodo    #El nodo actual al final apunta al nuevo nodo\n",
    "        self.rear = nuevo_nodo         #El nuevo nodo ahora es el final de la cola\n",
    "\n",
    "    #Metodo dequeue para eliminar y retorna el elemento del frente de la cola\n",
    "    def dequeue(self):\n",
    "        if self.is_empty():            #Si la cola esta vacia, no se puede desencolar\n",
    "            return None\n",
    "        dato = self.front.dato         #Guarda el dato del frente\n",
    "        self.front = self.front.next   #Avanza el frente al siguiente nodo\n",
    "        if self.front is None:         #Si la cola quedo vacia\n",
    "            self.rear = None           #Limpia el final\n",
    "        return dato                    #Retorna el dato desencolado\n",
    "\n",
    "    #Metodo peek para retornar el dato al frente de la cola sin eliminarlo\n",
    "    def peek(self):\n",
    "        return self.front.dato if self.front else None\n",
    "\n",
    "    #Metodo is_empty para verificar si la cola está vacía\n",
    "    def is_empty(self):\n",
    "        return self.front is None"
   ],
   "id": "289c3503034ced1e",
   "outputs": [],
   "execution_count": 6
  },
  {
   "metadata": {},
   "cell_type": "markdown",
   "source": "Prueba de Cola",
   "id": "f2c2117f1c4e2b25"
  },
  {
   "metadata": {
    "ExecuteTime": {
     "end_time": "2025-05-19T21:12:36.442678Z",
     "start_time": "2025-05-19T21:12:36.435500Z"
    }
   },
   "cell_type": "code",
   "source": [
    "c = Cola()  #Crear una cola vacia\n",
    "\n",
    "#Agregar elementos a la cola\n",
    "c.enqueue(15)\n",
    "c.enqueue(30)\n",
    "\n",
    "#Extraer y mostrar el frente de la cola\n",
    "print(c.dequeue())\n",
    "\n",
    "#Ver el nuevo frente sin eliminarlo\n",
    "print(c.peek())"
   ],
   "id": "7de89c758e2af85a",
   "outputs": [
    {
     "name": "stdout",
     "output_type": "stream",
     "text": [
      "15\n",
      "30\n"
     ]
    }
   ],
   "execution_count": 7
  }
 ],
 "metadata": {
  "kernelspec": {
   "display_name": "Python 3",
   "language": "python",
   "name": "python3"
  },
  "language_info": {
   "codemirror_mode": {
    "name": "ipython",
    "version": 2
   },
   "file_extension": ".py",
   "mimetype": "text/x-python",
   "name": "python",
   "nbconvert_exporter": "python",
   "pygments_lexer": "ipython2",
   "version": "2.7.6"
  }
 },
 "nbformat": 4,
 "nbformat_minor": 5
}
