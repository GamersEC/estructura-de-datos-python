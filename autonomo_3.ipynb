{
 "cells": [
  {
   "metadata": {},
   "cell_type": "markdown",
   "source": [
    "- Nombre: Marcus Alexander Mayorga Martínez\n",
    "- Fecha: 11 de mayo del 2025"
   ],
   "id": "9115652d8d388dd4"
  },
  {
   "metadata": {},
   "cell_type": "markdown",
   "source": "Clase Nodo",
   "id": "fbdb965223eba29c"
  },
  {
   "cell_type": "code",
   "id": "initial_id",
   "metadata": {
    "collapsed": true,
    "ExecuteTime": {
     "end_time": "2025-05-06T20:55:15.911973Z",
     "start_time": "2025-05-06T20:55:15.898055Z"
    }
   },
   "source": [
    "class Nodo:\n",
    "    def __init__(self, dato):\n",
    "        self.dato = dato\n",
    "        self.siguiente = None"
   ],
   "outputs": [],
   "execution_count": 24
  },
  {
   "metadata": {},
   "cell_type": "markdown",
   "source": "Clase lista enlazada",
   "id": "9021a63c3aeef0e2"
  },
  {
   "metadata": {
    "ExecuteTime": {
     "end_time": "2025-05-06T20:55:17.203993Z",
     "start_time": "2025-05-06T20:55:17.194356Z"
    }
   },
   "cell_type": "code",
   "source": [
    "class ListaEnlazada:\n",
    "    def __init__(self):\n",
    "        self.cabeza = None\n",
    "\n",
    "    def insertar_inicio(self, dato):\n",
    "        nuevo = Nodo(dato)\n",
    "        nuevo.siguiente = self.cabeza\n",
    "        self.cabeza = nuevo\n",
    "\n",
    "    def insertar_final(self, dato):\n",
    "        nuevo = Nodo(dato)\n",
    "        if self.cabeza is None:\n",
    "            self.cabeza = nuevo\n",
    "        else:\n",
    "            actual = self.cabeza\n",
    "            while actual.siguiente:\n",
    "                actual = actual.siguiente\n",
    "            actual.siguiente = nuevo\n",
    "\n",
    "    def eliminar(self, dato):\n",
    "        actual = self.cabeza\n",
    "        previo = None\n",
    "        while actual and actual.dato != dato:\n",
    "            previo = actual\n",
    "            actual = actual.siguiente\n",
    "        if actual is None:\n",
    "            return\n",
    "        if previo is None:\n",
    "            self.cabeza = actual.siguiente\n",
    "        else:\n",
    "            previo.siguiente = actual.siguiente\n",
    "\n",
    "    def imprimir(self):\n",
    "        actual = self.cabeza\n",
    "        while actual:\n",
    "            print(actual.dato, end=' -> ')\n",
    "            actual = actual.siguiente\n",
    "        print(\"Nulo\")"
   ],
   "id": "1bbe9e89b776d179",
   "outputs": [],
   "execution_count": 25
  },
  {
   "metadata": {},
   "cell_type": "markdown",
   "source": "Probar la clase lista enlazada",
   "id": "4124047559819407"
  },
  {
   "metadata": {
    "ExecuteTime": {
     "end_time": "2025-05-06T20:56:49.688983Z",
     "start_time": "2025-05-06T20:56:49.667933Z"
    }
   },
   "cell_type": "code",
   "source": [
    "lista = ListaEnlazada()\n",
    "\n",
    "print(\"Insertando al final:\")\n",
    "lista.insertar_final(20)\n",
    "lista.insertar_final(40)\n",
    "lista.insertar_final(60)\n",
    "lista.imprimir()\n",
    "\n",
    "print(\"\\nInsertando al inicio:\")\n",
    "lista.insertar_inicio(5)\n",
    "lista.insertar_inicio(1)\n",
    "lista.imprimir()\n",
    "\n",
    "print(\"\\nEliminando un elemento (20):\")\n",
    "lista.eliminar(20)\n",
    "lista.imprimir()\n",
    "\n",
    "print(\"\\nEliminando el primer elemento (1):\")\n",
    "lista.eliminar(1)\n",
    "lista.imprimir()"
   ],
   "id": "c021c61425079f8d",
   "outputs": [
    {
     "name": "stdout",
     "output_type": "stream",
     "text": [
      "Insertando al final:\n",
      "20 -> 40 -> 60 -> Nulo\n",
      "\n",
      "Insertando al inicio:\n",
      "1 -> 5 -> 20 -> 40 -> 60 -> Nulo\n",
      "\n",
      "Eliminando un elemento (20):\n",
      "1 -> 5 -> 40 -> 60 -> Nulo\n",
      "\n",
      "Eliminando el primer elemento (1):\n",
      "5 -> 40 -> 60 -> Nulo\n"
     ]
    }
   ],
   "execution_count": 30
  }
 ],
 "metadata": {
  "kernelspec": {
   "display_name": "Python 3",
   "language": "python",
   "name": "python3"
  },
  "language_info": {
   "codemirror_mode": {
    "name": "ipython",
    "version": 2
   },
   "file_extension": ".py",
   "mimetype": "text/x-python",
   "name": "python",
   "nbconvert_exporter": "python",
   "pygments_lexer": "ipython2",
   "version": "2.7.6"
  }
 },
 "nbformat": 4,
 "nbformat_minor": 5
}
